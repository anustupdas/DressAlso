{
 "cells": [
  {
   "cell_type": "code",
   "execution_count": 216,
   "metadata": {},
   "outputs": [
    {
     "name": "stdout",
     "output_type": "stream",
     "text": [
      "Shape:  (583, 405)\n",
      "Ready Shape:  (583, 403)\n"
     ]
    }
   ],
   "source": [
    "import csv\n",
    "from pathlib import Path\n",
    "from sklearn.neighbors import NearestNeighbors\n",
    "from sklearn.cluster import DBSCAN\n",
    "from sklearn import preprocessing\n",
    "import pandas as pd\n",
    "import numpy as np\n",
    "import random\n",
    "import matplotlib.pyplot as plt\n",
    "import numpy.matlib\n",
    "import math as math\n",
    "import itertools\n",
    "from scipy.spatial import distance\n",
    "import sklearn.metrics.pairwise as pa\n",
    "from sklearn.metrics.pairwise import euclidean_distances\n",
    "\n",
    "TRAIN_PATH=r'\\Users\\abhis\\OneDrive\\Desktop\\csv_result-ship_labeled_data.csv'\n",
    "\n",
    "\n",
    "def loadDatasetWithPandas(path):\n",
    "    # Reading the raw data from csv file\n",
    "    rawData = pd.read_csv(path)\n",
    "    # display(rawData)\n",
    "    # replacing the string indicating missing values with the numpy value for missing values\n",
    "    # NaNProcessedData = rawData.replace({'na': np.nan}, regex=True)\n",
    "    NaNProcessedData = rawData\n",
    "    return NaNProcessedData\n",
    "\n",
    "trainDataRaw = loadDatasetWithPandas(TRAIN_PATH)\n",
    "trainDataRaw = trainDataRaw.replace('?', str(np.NaN))\n",
    "\n",
    "\n",
    "for data in trainDataRaw.columns:\n",
    "    if trainDataRaw[data].dtype == 'O':\n",
    "        unique_elements = trainDataRaw[data].unique().tolist()\n",
    "        \n",
    "        trainDataRaw[data] = trainDataRaw[data].apply(lambda x:unique_elements.index(x))\n",
    "\n",
    "        \n",
    "#trainData.drop(columns = ['id', 'mrt_liverfat_s2'])\n",
    "trainData = trainDataRaw[trainDataRaw.columns.difference(['id', 'mrt_liverfat_s2'])]\n",
    "print(\"Shape: \", trainDataRaw.shape)\n",
    "print(\"Ready Shape: \", trainData.shape)\n",
    "\n",
    "#print(trainDataRaw)\n"
   ]
  },
  {
   "cell_type": "code",
   "execution_count": 217,
   "metadata": {},
   "outputs": [],
   "source": [
    "MlDistance1=trainDataRaw.iloc[[126, 21, 238, 127, 422 , 35, 212, 391, 71, 4],:]\n",
    "MlDistance2=trainDataRaw.iloc[[160,503,433,521,512,212,267,396,252,465],:]\n",
    "\n",
    "#print(MlDistance1)\n",
    "#print(MlDistance2)\n",
    "\n",
    "NlDistance1=trainDataRaw.iloc[[393,28,219,21,41,13,239,207,155,134],:]\n",
    "NlDistance2=trainDataRaw.iloc[[117,6,88,2,12,1,95,85,68,53],:]\n",
    "\n",
    "\n",
    "#print(NlDistance1)\n",
    "#print(NlDistance2)\n"
   ]
  },
  {
   "cell_type": "code",
   "execution_count": 218,
   "metadata": {},
   "outputs": [
    {
     "name": "stdout",
     "output_type": "stream",
     "text": [
      "   MlConstarintDist\n",
      "0       3738.950061\n",
      "1       9262.050292\n",
      "2       4506.899253\n",
      "3       6013.855111\n",
      "4       3231.047617\n",
      "5       8216.281094\n",
      "6      12918.483572\n",
      "7       1007.065929\n",
      "8      10472.827883\n",
      "9      11396.493278\n"
     ]
    }
   ],
   "source": [
    "dist1 = distance.cdist(MlDistance1,MlDistance2, 'euclidean')\n",
    "\n",
    "\n",
    "dist1=np.asmatrix(dist1)\n",
    "j=np.diagonal(dist1)\n",
    "j=j.transpose()\n",
    "\n",
    "#print(dist1)\n",
    "\n",
    "FinalMLDistance=pd.DataFrame(data=j,columns=['MlConstarintDist'])\n",
    "print(FinalMLDistance)"
   ]
  },
  {
   "cell_type": "code",
   "execution_count": 219,
   "metadata": {},
   "outputs": [
    {
     "name": "stdout",
     "output_type": "stream",
     "text": [
      "   NlConstarintDist\n",
      "0       3738.950061\n",
      "1       9262.050292\n",
      "2       4506.899253\n",
      "3       6013.855111\n",
      "4       3231.047617\n",
      "5       8216.281094\n",
      "6      12918.483572\n",
      "7       1007.065929\n",
      "8      10472.827883\n",
      "9      11396.493278\n"
     ]
    }
   ],
   "source": [
    "dist2 = distance.cdist(NlDistance1,NlDistance2, 'euclidean')\n",
    "\n",
    "\n",
    "dist2=np.asmatrix(dist2)\n",
    "k=np.diagonal(dist2)\n",
    "k=k.transpose()\n",
    "\n",
    "#print(dist2)\n",
    "\n",
    "FinalNLDistance=pd.DataFrame(data=j,columns=['NlConstarintDist'])\n",
    "print(FinalNLDistance)\n",
    "\n"
   ]
  },
  {
   "cell_type": "code",
   "execution_count": 220,
   "metadata": {},
   "outputs": [
    {
     "name": "stdout",
     "output_type": "stream",
     "text": [
      "   NlConstarintDist\n",
      "0          0.000000\n",
      "1          0.000000\n",
      "2          0.000000\n",
      "3          0.000000\n",
      "4          0.000000\n",
      "5          0.000000\n",
      "6          0.000000\n",
      "7      23170.475006\n",
      "8          0.000000\n",
      "9      23170.475006\n"
     ]
    }
   ],
   "source": [
    "j=euclidean_distances(NlDistance1,NlDistance2)\n",
    "\n",
    "#print(j)\n",
    "j=np.asmatrix(j)\n",
    "j=np.diagonal(j)\n",
    "j=j.transpose()\n",
    "\n",
    "FinalNLDistance=pd.DataFrame(data=j,columns=['NlConstarintDist'])\n",
    "print(FinalNLDistance)\n"
   ]
  },
  {
   "cell_type": "code",
   "execution_count": null,
   "metadata": {},
   "outputs": [],
   "source": []
  }
 ],
 "metadata": {
  "kernelspec": {
   "display_name": "Python 3",
   "language": "python",
   "name": "python3"
  },
  "language_info": {
   "codemirror_mode": {
    "name": "ipython",
    "version": 3
   },
   "file_extension": ".py",
   "mimetype": "text/x-python",
   "name": "python",
   "nbconvert_exporter": "python",
   "pygments_lexer": "ipython3",
   "version": "3.6.4"
  }
 },
 "nbformat": 4,
 "nbformat_minor": 2
}
